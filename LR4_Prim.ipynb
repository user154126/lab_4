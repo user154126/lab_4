{
 "cells": [
  {
   "cell_type": "markdown",
   "id": "4ad8429c-e186-4ca7-9b61-c0b158732fc7",
   "metadata": {},
   "source": [
    "# Примеры из лабораторной работы"
   ]
  },
  {
   "cell_type": "markdown",
   "id": "38bb9019-925b-4d8c-92b6-3da6727c79d3",
   "metadata": {},
   "source": [
    "## Создание Series из списка Python"
   ]
  },
  {
   "cell_type": "code",
   "execution_count": 8,
   "id": "a7241090-956e-460f-bd77-4f203ca64af2",
   "metadata": {},
   "outputs": [
    {
     "name": "stdout",
     "output_type": "stream",
     "text": [
      "0    1\n",
      "1    2\n",
      "2    3\n",
      "3    4\n",
      "4    5\n",
      "dtype: int64\n"
     ]
    }
   ],
   "source": [
    "import pandas as pd\n",
    "s1 = pd.Series([1, 2, 3, 4, 5])\n",
    "print(s1)"
   ]
  },
  {
   "cell_type": "code",
   "execution_count": 10,
   "id": "67d76bd8-7d82-47f5-83f1-5f5b988b4267",
   "metadata": {},
   "outputs": [
    {
     "name": "stdout",
     "output_type": "stream",
     "text": [
      "a    1\n",
      "b    2\n",
      "c    3\n",
      "d    4\n",
      "e    5\n",
      "dtype: int64\n"
     ]
    }
   ],
   "source": [
    "s2 = pd.Series([1, 2, 3, 4, 5], ['a', 'b', 'c', 'd', 'e'])\n",
    "print(s2)"
   ]
  },
  {
   "cell_type": "markdown",
   "id": "714c85b3-b10a-439d-8abb-b81683f62359",
   "metadata": {},
   "source": [
    "## Создание Series из ndarray массива из NumPy"
   ]
  },
  {
   "cell_type": "code",
   "execution_count": 13,
   "id": "bf36125e-c715-4525-8e56-aa6cc3c06750",
   "metadata": {},
   "outputs": [
    {
     "data": {
      "text/plain": [
       "numpy.ndarray"
      ]
     },
     "execution_count": 13,
     "metadata": {},
     "output_type": "execute_result"
    }
   ],
   "source": [
    "import numpy as np\n",
    "ndarr = np.array([1, 2, 3, 4, 5])\n",
    "type(ndarr)"
   ]
  },
  {
   "cell_type": "code",
   "execution_count": 15,
   "id": "4bff4f22-8785-45b1-a499-3f9748461e42",
   "metadata": {},
   "outputs": [
    {
     "name": "stdout",
     "output_type": "stream",
     "text": [
      "a    1\n",
      "b    2\n",
      "c    3\n",
      "d    4\n",
      "e    5\n",
      "dtype: int32\n"
     ]
    }
   ],
   "source": [
    "s3 = pd.Series(ndarr, ['a', 'b', 'c', 'd', 'e'])\n",
    "print(s3)"
   ]
  },
  {
   "cell_type": "markdown",
   "id": "806d64d8-f26a-4e31-93db-3b59f0151248",
   "metadata": {},
   "source": [
    "## Создание Series из словаря"
   ]
  },
  {
   "cell_type": "code",
   "execution_count": 18,
   "id": "d376f848-6ec3-4f2c-a98a-1b8529498b47",
   "metadata": {},
   "outputs": [
    {
     "name": "stdout",
     "output_type": "stream",
     "text": [
      "a    1\n",
      "b    2\n",
      "c    3\n",
      "dtype: int64\n"
     ]
    }
   ],
   "source": [
    "d = {'a':1, 'b':2, 'c':3}\n",
    "s4 = pd.Series(d)\n",
    "print(s4)"
   ]
  },
  {
   "cell_type": "markdown",
   "id": "06f63f33-9767-4e3b-980f-807f76a4ca28",
   "metadata": {},
   "source": [
    "## Создание Series с использование константы"
   ]
  },
  {
   "cell_type": "code",
   "execution_count": 21,
   "id": "cf174bdb-7b32-4b56-9ab4-fa6fbc530cd7",
   "metadata": {},
   "outputs": [
    {
     "name": "stdout",
     "output_type": "stream",
     "text": [
      "a    7\n",
      "b    7\n",
      "c    7\n",
      "dtype: int64\n"
     ]
    }
   ],
   "source": [
    "a = 7\n",
    "s5 = pd.Series(a, ['a', 'b', 'c'])\n",
    "print(s5)"
   ]
  },
  {
   "cell_type": "markdown",
   "id": "409c7fb0-bf47-48ed-969e-65740e9af97e",
   "metadata": {},
   "source": [
    "# Работа с элементами Series"
   ]
  },
  {
   "cell_type": "code",
   "execution_count": 26,
   "id": "006f6a16-1b66-4d2f-ae15-3a7511caac27",
   "metadata": {},
   "outputs": [
    {
     "data": {
      "text/plain": [
       "4"
      ]
     },
     "execution_count": 26,
     "metadata": {},
     "output_type": "execute_result"
    }
   ],
   "source": [
    "s6['d']"
   ]
  },
  {
   "cell_type": "code",
   "execution_count": 28,
   "id": "e680a0f4-7ff0-42bc-ae47-0ece256410cd",
   "metadata": {},
   "outputs": [
    {
     "data": {
      "text/plain": [
       "a    1\n",
       "b    2\n",
       "dtype: int64"
      ]
     },
     "execution_count": 28,
     "metadata": {},
     "output_type": "execute_result"
    }
   ],
   "source": [
    "s6[:2]"
   ]
  },
  {
   "cell_type": "code",
   "execution_count": 30,
   "id": "eed97a39-9b8a-4cfc-986c-caaabbd0a73f",
   "metadata": {},
   "outputs": [
    {
     "data": {
      "text/plain": [
       "a    1\n",
       "b    2\n",
       "c    3\n",
       "dtype: int64"
      ]
     },
     "execution_count": 30,
     "metadata": {},
     "output_type": "execute_result"
    }
   ],
   "source": [
    "s6[s6 <= 3]"
   ]
  },
  {
   "cell_type": "code",
   "execution_count": 32,
   "id": "d572a3b5-0336-4bea-8f8b-30f2484a2e87",
   "metadata": {},
   "outputs": [
    {
     "data": {
      "text/plain": [
       "a    11\n",
       "b    22\n",
       "c    33\n",
       "d    44\n",
       "e    55\n",
       "dtype: int64"
      ]
     },
     "execution_count": 32,
     "metadata": {},
     "output_type": "execute_result"
    }
   ],
   "source": [
    "s7 = pd.Series([10, 20, 30, 40, 50], ['a', 'b', 'c', 'd', 'e'])\n",
    "s6 + s7"
   ]
  },
  {
   "cell_type": "code",
   "execution_count": 34,
   "id": "cec0da39-c56c-4adc-ac71-bc211f0b950e",
   "metadata": {},
   "outputs": [
    {
     "data": {
      "text/plain": [
       "a     3\n",
       "b     6\n",
       "c     9\n",
       "d    12\n",
       "e    15\n",
       "dtype: int64"
      ]
     },
     "execution_count": 34,
     "metadata": {},
     "output_type": "execute_result"
    }
   ],
   "source": [
    "s6 * 3"
   ]
  },
  {
   "cell_type": "markdown",
   "id": "091c2b5c-45f8-4743-9c78-0d6ed331f889",
   "metadata": {},
   "source": [
    "## Позиционная индексация (iloc)"
   ]
  },
  {
   "cell_type": "code",
   "execution_count": 40,
   "id": "30aab8ea-3c57-4fef-b3b5-cfe88c541e96",
   "metadata": {},
   "outputs": [
    {
     "name": "stdout",
     "output_type": "stream",
     "text": [
      "10\n",
      "30\n",
      "50\n"
     ]
    }
   ],
   "source": [
    "s = pd.Series([10, 20, 30, 40, 50], index=['a', 'b', 'c', 'd', 'e'])\n",
    "print(s.iloc[0])\n",
    "print(s.iloc[2])\n",
    "print(s.iloc[-1])"
   ]
  },
  {
   "cell_type": "markdown",
   "id": "f75d25fe-3a4b-426b-9857-fcc005a25cdd",
   "metadata": {},
   "source": [
    "## Меточная индексая (loc)"
   ]
  },
  {
   "cell_type": "code",
   "execution_count": 45,
   "id": "6498b8cc-141a-4fbe-b1c7-adc39edd415e",
   "metadata": {},
   "outputs": [
    {
     "name": "stdout",
     "output_type": "stream",
     "text": [
      "10\n",
      "30\n",
      "50\n"
     ]
    }
   ],
   "source": [
    "print(s.loc['a'])\n",
    "print(s.loc['c'])\n",
    "print(s.loc['e'])"
   ]
  },
  {
   "cell_type": "markdown",
   "id": "1558669d-7539-4069-b206-368c36a48e61",
   "metadata": {},
   "source": [
    "## Разница в слайдах (iloc vs loc)"
   ]
  },
  {
   "cell_type": "code",
   "execution_count": 51,
   "id": "c93ffe4f-6f20-4cb1-9555-2c8b8d66d517",
   "metadata": {},
   "outputs": [
    {
     "name": "stdout",
     "output_type": "stream",
     "text": [
      "b    20\n",
      "c    30\n",
      "dtype: int64\n",
      "b    20\n",
      "c    30\n",
      "d    40\n",
      "dtype: int64\n"
     ]
    }
   ],
   "source": [
    "print(s.iloc[1:3])\n",
    "print(s.loc['b':'d'])"
   ]
  },
  {
   "cell_type": "markdown",
   "id": "67ac0ae5-bef2-4c1d-ab3c-f2f3fcc7ef72",
   "metadata": {},
   "source": [
    "## Использование логической индексации для фильтрации данных в Series"
   ]
  },
  {
   "cell_type": "code",
   "execution_count": 54,
   "id": "d5cbdb0c-9bb5-4a46-8b74-f2e7d95245cf",
   "metadata": {},
   "outputs": [
    {
     "name": "stdout",
     "output_type": "stream",
     "text": [
      "b    25\n",
      "d    30\n",
      "e    15\n",
      "dtype: int64\n"
     ]
    }
   ],
   "source": [
    "s = pd.Series([10, 25, 8, 30, 15], index=['a', 'b', 'c', 'd', 'e'])\n",
    "filtered_s = s[s > 10]\n",
    "print(filtered_s)"
   ]
  },
  {
   "cell_type": "code",
   "execution_count": 56,
   "id": "760d057a-9c5b-451e-b7e8-17738a8014ab",
   "metadata": {},
   "outputs": [
    {
     "name": "stdout",
     "output_type": "stream",
     "text": [
      "a    False\n",
      "b     True\n",
      "c    False\n",
      "d     True\n",
      "e     True\n",
      "dtype: bool\n"
     ]
    }
   ],
   "source": [
    "print(s > 10)"
   ]
  },
  {
   "cell_type": "code",
   "execution_count": 58,
   "id": "5eb41c0e-6b77-417a-bad3-197c1b750069",
   "metadata": {},
   "outputs": [
    {
     "name": "stdout",
     "output_type": "stream",
     "text": [
      "a    10\n",
      "b    25\n",
      "d    30\n",
      "e    15\n",
      "dtype: int64\n"
     ]
    }
   ],
   "source": [
    "filtered_s = s[(s >= 10) & (s <= 30)]\n",
    "print(filtered_s)"
   ]
  },
  {
   "cell_type": "code",
   "execution_count": 60,
   "id": "8e982348-6b32-4ee7-825e-f827a0584026",
   "metadata": {},
   "outputs": [
    {
     "name": "stdout",
     "output_type": "stream",
     "text": [
      "b    25\n",
      "d    30\n",
      "dtype: int64\n"
     ]
    }
   ],
   "source": [
    "filtered_s = s[s.index.isin(['b', 'd'])]\n",
    "print(filtered_s)"
   ]
  },
  {
   "cell_type": "code",
   "execution_count": 62,
   "id": "66db722f-6bd6-4e77-ab0b-8a33f9da042f",
   "metadata": {},
   "outputs": [
    {
     "name": "stdout",
     "output_type": "stream",
     "text": [
      "a    10.0\n",
      "c     8.0\n",
      "d    30.0\n",
      "dtype: float64\n"
     ]
    }
   ],
   "source": [
    "s_with_nan = pd.Series([10, None, 8, 30, None], index=['a', 'b', 'c', 'd', 'e'])\n",
    "filtered_s = s_with_nan[s_with_nan.notnull()]\n",
    "print(filtered_s)"
   ]
  },
  {
   "cell_type": "markdown",
   "id": "65699aea-38ec-4ec2-941d-40b7c4565a7d",
   "metadata": {},
   "source": [
    "## Изменение значений элементов в Series"
   ]
  },
  {
   "cell_type": "code",
   "execution_count": 65,
   "id": "4a9ce0b3-c8bd-4f88-b33e-0ff8d20afaa7",
   "metadata": {},
   "outputs": [
    {
     "name": "stdout",
     "output_type": "stream",
     "text": [
      "a    10\n",
      "b    25\n",
      "c    30\n",
      "d    40\n",
      "dtype: int64\n"
     ]
    }
   ],
   "source": [
    "s = pd.Series([10, 20, 30, 40], index=['a', 'b', 'c', 'd'])\n",
    "s.loc['b'] = 25\n",
    "print(s)"
   ]
  },
  {
   "cell_type": "code",
   "execution_count": 67,
   "id": "d6f13352-6ba4-4f44-86f7-4868c1309715",
   "metadata": {},
   "outputs": [
    {
     "name": "stdout",
     "output_type": "stream",
     "text": [
      "a    10\n",
      "b    50\n",
      "c    30\n",
      "d    40\n",
      "dtype: int64\n"
     ]
    }
   ],
   "source": [
    "s.iloc[1] = 50\n",
    "print(s)"
   ]
  },
  {
   "cell_type": "code",
   "execution_count": 69,
   "id": "f1cfbced-4eb5-4b02-b7bc-c59dde3371b6",
   "metadata": {},
   "outputs": [
    {
     "name": "stdout",
     "output_type": "stream",
     "text": [
      "a    10\n",
      "b    60\n",
      "c    30\n",
      "d    50\n",
      "dtype: int64\n"
     ]
    }
   ],
   "source": [
    "s[s > 30] += 10\n",
    "print(s)"
   ]
  },
  {
   "cell_type": "code",
   "execution_count": 71,
   "id": "9c0f6089-057a-4dec-a6d8-dc095263d1e5",
   "metadata": {},
   "outputs": [
    {
     "name": "stdout",
     "output_type": "stream",
     "text": [
      "a    100\n",
      "b     60\n",
      "c    200\n",
      "d     50\n",
      "dtype: int64\n"
     ]
    }
   ],
   "source": [
    "s.loc[['a', 'c']] = [100, 200]\n",
    "print(s)"
   ]
  },
  {
   "cell_type": "code",
   "execution_count": 73,
   "id": "2ed7f912-457e-47fd-9474-1e8d41d90468",
   "metadata": {},
   "outputs": [
    {
     "name": "stdout",
     "output_type": "stream",
     "text": [
      "a    200\n",
      "b    120\n",
      "c    400\n",
      "d    100\n",
      "dtype: int64\n"
     ]
    }
   ],
   "source": [
    "s = s.apply(lambda x: x * 2)\n",
    "print(s)"
   ]
  },
  {
   "cell_type": "code",
   "execution_count": 75,
   "id": "1b1fdf23-d8f3-45e0-944a-138b019c6d35",
   "metadata": {},
   "outputs": [
    {
     "name": "stdout",
     "output_type": "stream",
     "text": [
      "a    10.0\n",
      "b     0.0\n",
      "c    30.0\n",
      "d     0.0\n",
      "dtype: float64\n"
     ]
    }
   ],
   "source": [
    "s_with_nan = pd.Series([10, None, 30, None], index=['a', 'b', 'c', 'd'])\n",
    "s_filled = s_with_nan.fillna(0)\n",
    "print(s_filled)"
   ]
  },
  {
   "cell_type": "markdown",
   "id": "ed62d67b-ec94-4afd-ba33-642659328f72",
   "metadata": {},
   "source": [
    "# Основные методы работы с Series"
   ]
  },
  {
   "cell_type": "markdown",
   "id": "f4586d8a-c0fb-4fc3-9db8-f4baded4c746",
   "metadata": {},
   "source": [
    "## Метод .head(n)"
   ]
  },
  {
   "cell_type": "code",
   "execution_count": 79,
   "id": "35ba53d8-eec6-4caf-b355-e95d3407b05f",
   "metadata": {},
   "outputs": [
    {
     "name": "stdout",
     "output_type": "stream",
     "text": [
      "a    10\n",
      "b    20\n",
      "c    30\n",
      "dtype: int64\n"
     ]
    }
   ],
   "source": [
    "s = pd.Series([10, 20, 30, 40, 50, 60, 70], index=['a', 'b', 'c', 'd', 'e', 'f', 'g'])\n",
    "print(s.head(3))"
   ]
  },
  {
   "cell_type": "code",
   "execution_count": 81,
   "id": "74ddf292-6819-453d-a8e8-31c3f54d8889",
   "metadata": {},
   "outputs": [
    {
     "name": "stdout",
     "output_type": "stream",
     "text": [
      "a    10\n",
      "b    20\n",
      "c    30\n",
      "d    40\n",
      "e    50\n",
      "dtype: int64\n"
     ]
    }
   ],
   "source": [
    "print(s.head())"
   ]
  },
  {
   "cell_type": "markdown",
   "id": "c1dc4288-264c-4907-92ce-29a07c92acad",
   "metadata": {},
   "source": [
    "## Метод .tail(n)"
   ]
  },
  {
   "cell_type": "code",
   "execution_count": 84,
   "id": "7dd5dd5c-1de5-47b0-a4a4-eb4712d3a0c9",
   "metadata": {},
   "outputs": [
    {
     "name": "stdout",
     "output_type": "stream",
     "text": [
      "e    50\n",
      "f    60\n",
      "g    70\n",
      "dtype: int64\n"
     ]
    }
   ],
   "source": [
    "print(s.tail(3))"
   ]
  },
  {
   "cell_type": "code",
   "execution_count": 86,
   "id": "aa1370d0-93e1-4e5e-b356-bbd87e4ff4a3",
   "metadata": {},
   "outputs": [
    {
     "name": "stdout",
     "output_type": "stream",
     "text": [
      "c    30\n",
      "d    40\n",
      "e    50\n",
      "f    60\n",
      "g    70\n",
      "dtype: int64\n"
     ]
    }
   ],
   "source": [
    "print(s.tail())"
   ]
  },
  {
   "cell_type": "markdown",
   "id": "d9dd0fb5-37ea-4c65-a63b-0632bf198c0a",
   "metadata": {},
   "source": [
    "## .index и.values. Получение индексов и значений в Series"
   ]
  },
  {
   "cell_type": "code",
   "execution_count": 97,
   "id": "bdfccae4-c677-4360-b220-a9f81dd013c1",
   "metadata": {},
   "outputs": [
    {
     "name": "stdout",
     "output_type": "stream",
     "text": [
      "Index(['a', 'b', 'c', 'd', 'e'], dtype='object')\n"
     ]
    }
   ],
   "source": [
    "s = pd.Series([10, 20, 30, 40, 50], index=['a', 'b', 'c', 'd', 'e'])\n",
    "print(s.index)"
   ]
  },
  {
   "cell_type": "code",
   "execution_count": 99,
   "id": "1bcce05e-0f04-45f2-ad3a-a03ec260dbc5",
   "metadata": {},
   "outputs": [
    {
     "name": "stdout",
     "output_type": "stream",
     "text": [
      "a\n",
      "e\n"
     ]
    }
   ],
   "source": [
    "print(s.index[0])\n",
    "print(s.index[-1])"
   ]
  },
  {
   "cell_type": "code",
   "execution_count": 101,
   "id": "4e88351f-a296-4fc8-8d53-a801c4919db1",
   "metadata": {},
   "outputs": [
    {
     "name": "stdout",
     "output_type": "stream",
     "text": [
      "True\n",
      "False\n"
     ]
    }
   ],
   "source": [
    "print('b' in s.index)\n",
    "print('z' in s.index)"
   ]
  },
  {
   "cell_type": "code",
   "execution_count": 103,
   "id": "8a1156e2-8166-4bcd-a2f5-9c1aa8bf9f1a",
   "metadata": {},
   "outputs": [
    {
     "name": "stdout",
     "output_type": "stream",
     "text": [
      "[10 20 30 40 50]\n"
     ]
    }
   ],
   "source": [
    "print(s.values)"
   ]
  },
  {
   "cell_type": "code",
   "execution_count": 105,
   "id": "b7249aea-c0c1-4580-9932-8b64e916873f",
   "metadata": {},
   "outputs": [
    {
     "name": "stdout",
     "output_type": "stream",
     "text": [
      "10\n",
      "30.0\n"
     ]
    }
   ],
   "source": [
    "print(s.values[0])\n",
    "print(s.values.mean())"
   ]
  },
  {
   "cell_type": "markdown",
   "id": "a08dd156-9632-444b-b0c8-45d982443a6b",
   "metadata": {},
   "source": [
    "## .dtype. Определение типа данных в pandas.Series"
   ]
  },
  {
   "cell_type": "code",
   "execution_count": 113,
   "id": "4eb84fcc-8db4-4be8-b22f-a3163daea81f",
   "metadata": {},
   "outputs": [
    {
     "name": "stdout",
     "output_type": "stream",
     "text": [
      "int64\n"
     ]
    }
   ],
   "source": [
    "s = pd.Series([10, 20, 30, 40, 50])\n",
    "print(s.dtype)"
   ]
  },
  {
   "cell_type": "code",
   "execution_count": 115,
   "id": "67ff9b4e-f866-46d9-8ec8-2b5cab0ebbbc",
   "metadata": {},
   "outputs": [
    {
     "name": "stdout",
     "output_type": "stream",
     "text": [
      "float64\n",
      "object\n",
      "bool\n"
     ]
    }
   ],
   "source": [
    "s1 = pd.Series([1.5, 2.3, 3.7])\n",
    "s2 = pd.Series([\"apple\", \"banana\", \"cherry\"])\n",
    "s3 = pd.Series([True, False, True])\n",
    "\n",
    "print(s1.dtype)\n",
    "print(s2.dtype)\n",
    "print(s3.dtype)"
   ]
  },
  {
   "cell_type": "code",
   "execution_count": 117,
   "id": "87d44dd4-f3ac-4df6-adf1-2322b87f9fc9",
   "metadata": {},
   "outputs": [
    {
     "name": "stdout",
     "output_type": "stream",
     "text": [
      "0    1\n",
      "1    2\n",
      "2    3\n",
      "dtype: int32\n",
      "int32\n"
     ]
    }
   ],
   "source": [
    "s1_int = s1.astype(int)\n",
    "print(s1_int)\n",
    "print(s1_int.dtype)"
   ]
  },
  {
   "cell_type": "code",
   "execution_count": 119,
   "id": "1d7b25da-5a26-492b-9637-7fd6430ab571",
   "metadata": {},
   "outputs": [
    {
     "name": "stdout",
     "output_type": "stream",
     "text": [
      "object\n"
     ]
    }
   ],
   "source": [
    "s4 = pd.Series([10, \"apple\", 3.14, True])\n",
    "print(s4.dtype)"
   ]
  },
  {
   "cell_type": "markdown",
   "id": "02f857f3-52a9-4b9a-817f-1fe8a7e5d8cc",
   "metadata": {},
   "source": [
    "## .isnull() и .notnull(). Проверка наличия пропущенных значений в pandas.Series"
   ]
  },
  {
   "cell_type": "code",
   "execution_count": 127,
   "id": "b4e13950-fa37-4929-8a78-65a74620d9e6",
   "metadata": {},
   "outputs": [
    {
     "name": "stdout",
     "output_type": "stream",
     "text": [
      "0    False\n",
      "1     True\n",
      "2    False\n",
      "3     True\n",
      "4    False\n",
      "dtype: bool\n"
     ]
    }
   ],
   "source": [
    "s = pd.Series([10, np.nan, 30, None, 50])\n",
    "print(s.isnull())"
   ]
  },
  {
   "cell_type": "code",
   "execution_count": 129,
   "id": "b2de4743-46f1-492d-b09c-de7b6e39ebaf",
   "metadata": {},
   "outputs": [
    {
     "name": "stdout",
     "output_type": "stream",
     "text": [
      "0     True\n",
      "1    False\n",
      "2     True\n",
      "3    False\n",
      "4     True\n",
      "dtype: bool\n"
     ]
    }
   ],
   "source": [
    "print(s.notnull())"
   ]
  },
  {
   "cell_type": "code",
   "execution_count": 131,
   "id": "5353969f-48f2-4f9a-849e-5b42a706df93",
   "metadata": {},
   "outputs": [
    {
     "name": "stdout",
     "output_type": "stream",
     "text": [
      "0    10.0\n",
      "2    30.0\n",
      "4    50.0\n",
      "dtype: float64\n"
     ]
    }
   ],
   "source": [
    "filtered_s = s[s.notnull()]\n",
    "print(filtered_s)"
   ]
  },
  {
   "cell_type": "code",
   "execution_count": 133,
   "id": "ed849615-555d-4a70-be6b-7050abd79f81",
   "metadata": {},
   "outputs": [
    {
     "name": "stdout",
     "output_type": "stream",
     "text": [
      "1   NaN\n",
      "3   NaN\n",
      "dtype: float64\n"
     ]
    }
   ],
   "source": [
    "missing_values = s[s.isnull()]\n",
    "print(missing_values)"
   ]
  },
  {
   "cell_type": "markdown",
   "id": "986f6bc8-2992-411c-a792-8629765ea636",
   "metadata": {},
   "source": [
    "## .fillna(value), .dropna(). Работа с пропущенными значениями в pandas.Series"
   ]
  },
  {
   "cell_type": "code",
   "execution_count": 141,
   "id": "d0584424-3900-4ada-a05a-43c227ee52fe",
   "metadata": {},
   "outputs": [
    {
     "name": "stdout",
     "output_type": "stream",
     "text": [
      "0    10.0\n",
      "1     0.0\n",
      "2    30.0\n",
      "3     0.0\n",
      "4    50.0\n",
      "dtype: float64\n"
     ]
    }
   ],
   "source": [
    "s = pd.Series([10, np.nan, 30, None, 50])\n",
    "s_filled = s.fillna(0)\n",
    "print(s_filled)"
   ]
  },
  {
   "cell_type": "code",
   "execution_count": 143,
   "id": "06cd9288-a832-4ccd-bf25-360a65224b5a",
   "metadata": {},
   "outputs": [
    {
     "name": "stdout",
     "output_type": "stream",
     "text": [
      "0    10.0\n",
      "1    30.0\n",
      "2    30.0\n",
      "3    30.0\n",
      "4    50.0\n",
      "dtype: float64\n"
     ]
    }
   ],
   "source": [
    "s_filled = s.fillna(s.mean())\n",
    "print(s_filled)"
   ]
  },
  {
   "cell_type": "code",
   "execution_count": 145,
   "id": "f0912a60-dd79-489f-b58b-831b8c36a7b4",
   "metadata": {},
   "outputs": [
    {
     "name": "stdout",
     "output_type": "stream",
     "text": [
      "0    10.0\n",
      "2    30.0\n",
      "4    50.0\n",
      "dtype: float64\n"
     ]
    }
   ],
   "source": [
    "s_cleaned = s.dropna()\n",
    "print(s_cleaned)"
   ]
  },
  {
   "cell_type": "markdown",
   "id": "d94bf200-0ceb-419c-8ca1-dc13057a3bcd",
   "metadata": {},
   "source": [
    "# Операции над Series"
   ]
  },
  {
   "cell_type": "markdown",
   "id": "4d49d438-a328-4b1a-9100-51c846a8071a",
   "metadata": {},
   "source": [
    "## Арифметические операции с числом"
   ]
  },
  {
   "cell_type": "code",
   "execution_count": 149,
   "id": "d75c5404-9f2e-469f-8b81-4b8586072881",
   "metadata": {},
   "outputs": [
    {
     "name": "stdout",
     "output_type": "stream",
     "text": [
      "0     20\n",
      "1     40\n",
      "2     60\n",
      "3     80\n",
      "4    100\n",
      "dtype: int64\n"
     ]
    }
   ],
   "source": [
    "s = pd.Series([10, 20, 30, 40, 50])\n",
    "s_multiplied = s * 2\n",
    "print(s_multiplied)"
   ]
  },
  {
   "cell_type": "markdown",
   "id": "2d3bfb5c-5eff-47f7-b2e1-e278f853b9d8",
   "metadata": {},
   "source": [
    "## Арифметические операции между двумя Series"
   ]
  },
  {
   "cell_type": "code",
   "execution_count": 152,
   "id": "d1a716fd-6bf2-4f42-b4c1-474717ac12a8",
   "metadata": {},
   "outputs": [
    {
     "name": "stdout",
     "output_type": "stream",
     "text": [
      "a    11\n",
      "b    22\n",
      "c    33\n",
      "d    44\n",
      "e    55\n",
      "dtype: int64\n"
     ]
    }
   ],
   "source": [
    "s1 = pd.Series([1, 2, 3, 4, 5], index=['a', 'b', 'c', 'd', 'e'])\n",
    "s2 = pd.Series([10, 20, 30, 40, 50], index=['a', 'b', 'c', 'd', 'e'])\n",
    "s_sum = s1 + s2\n",
    "print(s_sum)"
   ]
  },
  {
   "cell_type": "markdown",
   "id": "924ee4a3-7e2d-464c-aa93-ce669efde20c",
   "metadata": {},
   "source": [
    "## Работа с несовпадающими индексами"
   ]
  },
  {
   "cell_type": "code",
   "execution_count": 155,
   "id": "b8831d7c-2c84-40f6-9f31-e411ef225851",
   "metadata": {},
   "outputs": [
    {
     "name": "stdout",
     "output_type": "stream",
     "text": [
      "a    101.0\n",
      "b    202.0\n",
      "c      NaN\n",
      "d      NaN\n",
      "e      NaN\n",
      "f      NaN\n",
      "dtype: float64\n"
     ]
    }
   ],
   "source": [
    "s3 = pd.Series([100, 200, 300], index=['a', 'b', 'f'])\n",
    "s_result = s1 + s3\n",
    "print(s_result)"
   ]
  },
  {
   "cell_type": "markdown",
   "id": "710d9168-4d84-4384-b66f-dc1c35dd7b59",
   "metadata": {},
   "source": [
    "## Использование методов .add() , .sub() , .mul() , .div()"
   ]
  },
  {
   "cell_type": "code",
   "execution_count": 158,
   "id": "c240fcd0-112f-4b1e-b1a4-8a220b12345c",
   "metadata": {},
   "outputs": [
    {
     "name": "stdout",
     "output_type": "stream",
     "text": [
      "a    101.0\n",
      "b    202.0\n",
      "c      3.0\n",
      "d      4.0\n",
      "e      5.0\n",
      "f    300.0\n",
      "dtype: float64\n"
     ]
    }
   ],
   "source": [
    "s_result = s1.add(s3, fill_value=0)\n",
    "print(s_result)"
   ]
  },
  {
   "cell_type": "markdown",
   "id": "892b128e-b373-495a-b731-6f4aad2eb4ca",
   "metadata": {},
   "source": [
    "## Применение функций с помощью .apply(func) для Series"
   ]
  },
  {
   "cell_type": "code",
   "execution_count": 161,
   "id": "f7866c69-bd80-4b03-8b90-de7a34741820",
   "metadata": {},
   "outputs": [
    {
     "name": "stdout",
     "output_type": "stream",
     "text": [
      "0     1\n",
      "1     4\n",
      "2     9\n",
      "3    16\n",
      "4    25\n",
      "dtype: int64\n"
     ]
    }
   ],
   "source": [
    "s = pd.Series([1, 2, 3, 4, 5])\n",
    "s_squared = s.apply(lambda x: x ** 2)\n",
    "print(s_squared)"
   ]
  },
  {
   "cell_type": "code",
   "execution_count": 163,
   "id": "3fa7968a-b08e-473f-9d12-c439f767c1d5",
   "metadata": {},
   "outputs": [
    {
     "name": "stdout",
     "output_type": "stream",
     "text": [
      "0    Value: 1\n",
      "1    Value: 2\n",
      "2    Value: 3\n",
      "3    Value: 4\n",
      "4    Value: 5\n",
      "dtype: object\n"
     ]
    }
   ],
   "source": [
    "def custom_function(x):\n",
    "    return f\"Value: {x}\"\n",
    "    \n",
    "s_transformed = s.apply(custom_function)\n",
    "print(s_transformed)"
   ]
  },
  {
   "cell_type": "code",
   "execution_count": 165,
   "id": "5d62d638-b26c-498c-ae9a-cf029a2c1674",
   "metadata": {},
   "outputs": [
    {
     "name": "stdout",
     "output_type": "stream",
     "text": [
      "0    0.000000\n",
      "1    0.693147\n",
      "2    1.098612\n",
      "3    1.386294\n",
      "4    1.609438\n",
      "dtype: float64\n"
     ]
    }
   ],
   "source": [
    "s_log = s.apply(np.log)\n",
    "print(s_log)"
   ]
  },
  {
   "cell_type": "code",
   "execution_count": 167,
   "id": "da8b3b48-19a3-4f51-a9f6-e83b0dbf35cf",
   "metadata": {},
   "outputs": [
    {
     "name": "stdout",
     "output_type": "stream",
     "text": [
      "0     APPLE\n",
      "1    BANANA\n",
      "2    CHERRY\n",
      "dtype: object\n"
     ]
    }
   ],
   "source": [
    "s_text = pd.Series([\"apple\", \"banana\", \"cherry\"])\n",
    "s_upper = s_text.apply(str.upper)\n",
    "print(s_upper)"
   ]
  },
  {
   "cell_type": "markdown",
   "id": "bd7f385a-3e95-41e7-9fdd-9cc07b8ee286",
   "metadata": {},
   "source": [
    "## Методы агрегирования в Series"
   ]
  },
  {
   "cell_type": "code",
   "execution_count": 170,
   "id": "8ea65169-5923-4e77-9fc0-18c8efdf698f",
   "metadata": {},
   "outputs": [
    {
     "name": "stdout",
     "output_type": "stream",
     "text": [
      "150\n"
     ]
    }
   ],
   "source": [
    "s = pd.Series([10, 20, 30, 40, 50])\n",
    "print(s.sum())"
   ]
  },
  {
   "cell_type": "code",
   "execution_count": 172,
   "id": "4ddc8bd8-ac06-4dcb-b513-f3ab2493505a",
   "metadata": {},
   "outputs": [
    {
     "name": "stdout",
     "output_type": "stream",
     "text": [
      "120.0\n"
     ]
    }
   ],
   "source": [
    "s_with_nan = pd.Series([10, 20, None, 40, 50])\n",
    "print(s_with_nan.sum())"
   ]
  },
  {
   "cell_type": "code",
   "execution_count": 174,
   "id": "9961d7cf-651d-4f8a-b68b-ef6b6d58e140",
   "metadata": {},
   "outputs": [
    {
     "name": "stdout",
     "output_type": "stream",
     "text": [
      "30.0\n"
     ]
    }
   ],
   "source": [
    "print(s.mean())"
   ]
  },
  {
   "cell_type": "code",
   "execution_count": 176,
   "id": "9eb994e9-2a27-483f-9a26-ca9511e2f1a0",
   "metadata": {},
   "outputs": [
    {
     "name": "stdout",
     "output_type": "stream",
     "text": [
      "30.0\n"
     ]
    }
   ],
   "source": [
    "print(s_with_nan.mean())"
   ]
  },
  {
   "cell_type": "code",
   "execution_count": 178,
   "id": "4219c83b-461b-4fd6-bd80-4785b43e01ff",
   "metadata": {},
   "outputs": [
    {
     "name": "stdout",
     "output_type": "stream",
     "text": [
      "10\n",
      "50\n"
     ]
    }
   ],
   "source": [
    "print(s.min())\n",
    "print(s.max())"
   ]
  },
  {
   "cell_type": "code",
   "execution_count": 180,
   "id": "7da794ac-73f8-4ace-9224-135d52a48167",
   "metadata": {},
   "outputs": [
    {
     "name": "stdout",
     "output_type": "stream",
     "text": [
      "count     5.000000\n",
      "mean     30.000000\n",
      "std      15.811388\n",
      "min      10.000000\n",
      "25%      20.000000\n",
      "50%      30.000000\n",
      "75%      40.000000\n",
      "max      50.000000\n",
      "dtype: float64\n"
     ]
    }
   ],
   "source": [
    "print(s.describe())"
   ]
  },
  {
   "cell_type": "code",
   "execution_count": 182,
   "id": "56c6768d-5b15-48c2-a2bf-173df7ad855c",
   "metadata": {},
   "outputs": [
    {
     "name": "stdout",
     "output_type": "stream",
     "text": [
      "count         5\n",
      "unique        3\n",
      "top       apple\n",
      "freq          2\n",
      "dtype: object\n"
     ]
    }
   ],
   "source": [
    "s_text = pd.Series([\"apple\", \"banana\", \"apple\", \"cherry\", \"banana\"])\n",
    "print(s_text.describe())"
   ]
  },
  {
   "cell_type": "markdown",
   "id": "b7accab5-bb3d-4d7d-8a71-1327d6320f96",
   "metadata": {},
   "source": [
    "# Совместимость с NumPy"
   ]
  },
  {
   "cell_type": "markdown",
   "id": "8d4fa058-d64f-4ddd-a770-c4021d4a4ed4",
   "metadata": {},
   "source": [
    "## Логарифм np.log(s)"
   ]
  },
  {
   "cell_type": "code",
   "execution_count": 186,
   "id": "63cf27c8-409c-4ba1-b8b2-1038c00a837b",
   "metadata": {},
   "outputs": [
    {
     "name": "stdout",
     "output_type": "stream",
     "text": [
      "0    0.000000\n",
      "1    0.693147\n",
      "2    1.098612\n",
      "3    1.386294\n",
      "4    1.609438\n",
      "dtype: float64\n"
     ]
    }
   ],
   "source": [
    "s = pd.Series([1, 2, 3, 4, 5])\n",
    "s_log = np.log(s)\n",
    "print(s_log)"
   ]
  },
  {
   "cell_type": "markdown",
   "id": "7c39c1b2-31d9-423e-b4fa-692268cafd98",
   "metadata": {},
   "source": [
    "## Экспонента np.exp(s)"
   ]
  },
  {
   "cell_type": "code",
   "execution_count": 189,
   "id": "b6ccdc81-7441-4685-a1d9-e877c49b56be",
   "metadata": {},
   "outputs": [
    {
     "name": "stdout",
     "output_type": "stream",
     "text": [
      "0      2.718282\n",
      "1      7.389056\n",
      "2     20.085537\n",
      "3     54.598150\n",
      "4    148.413159\n",
      "dtype: float64\n"
     ]
    }
   ],
   "source": [
    "s_exp = np.exp(s)\n",
    "print(s_exp)"
   ]
  },
  {
   "cell_type": "markdown",
   "id": "03681709-3146-4725-94c6-764971f6545d",
   "metadata": {},
   "source": [
    "## Квадратный корень np.sqrt(s)"
   ]
  },
  {
   "cell_type": "code",
   "execution_count": 192,
   "id": "63a013a4-6b78-434f-b585-c060642e6451",
   "metadata": {},
   "outputs": [
    {
     "name": "stdout",
     "output_type": "stream",
     "text": [
      "0    1.000000\n",
      "1    1.414214\n",
      "2    1.732051\n",
      "3    2.000000\n",
      "4    2.236068\n",
      "dtype: float64\n"
     ]
    }
   ],
   "source": [
    "s_sqrt = np.sqrt(s)\n",
    "print(s_sqrt)"
   ]
  },
  {
   "cell_type": "markdown",
   "id": "78ef18a7-83b1-45e6-9a0b-a2e69ec9e6ee",
   "metadata": {},
   "source": [
    "## Применение другие NumPy-функций"
   ]
  },
  {
   "cell_type": "code",
   "execution_count": 195,
   "id": "145645c4-db51-4b1a-af54-9748f2fcec90",
   "metadata": {},
   "outputs": [
    {
     "name": "stdout",
     "output_type": "stream",
     "text": [
      "0    0.841471\n",
      "1    0.909297\n",
      "2    0.141120\n",
      "3   -0.756802\n",
      "4   -0.958924\n",
      "dtype: float64\n",
      "0    0.540302\n",
      "1   -0.416147\n",
      "2   -0.989992\n",
      "3   -0.653644\n",
      "4    0.283662\n",
      "dtype: float64\n",
      "0    1\n",
      "1    2\n",
      "2    3\n",
      "3    4\n",
      "4    5\n",
      "dtype: int64\n"
     ]
    }
   ],
   "source": [
    "print(np.sin(s))\n",
    "print(np.cos(s))\n",
    "print(np.abs(s))"
   ]
  },
  {
   "cell_type": "markdown",
   "id": "9428add2-1877-43fb-b728-6e83a070eec0",
   "metadata": {},
   "source": [
    "## Обход ошибок при работе с NaN"
   ]
  },
  {
   "cell_type": "code",
   "execution_count": 198,
   "id": "b75245a4-c264-47b9-a34f-6b62e2df66f5",
   "metadata": {},
   "outputs": [
    {
     "name": "stdout",
     "output_type": "stream",
     "text": [
      "0    1.0\n",
      "1    NaN\n",
      "2    2.0\n",
      "3    3.0\n",
      "dtype: float64\n"
     ]
    }
   ],
   "source": [
    "s_with_nan = pd.Series([1, np.nan, 4, 9])\n",
    "print(np.sqrt(s_with_nan))"
   ]
  },
  {
   "cell_type": "markdown",
   "id": "86266d01-9f28-45fd-81e5-d98af04a28b4",
   "metadata": {},
   "source": [
    "# Работа с индексами"
   ]
  },
  {
   "cell_type": "markdown",
   "id": "5e5c3c50-ac8e-4594-bcb8-dfb48cfce5aa",
   "metadata": {},
   "source": [
    "## Переназначение индексов в Series"
   ]
  },
  {
   "cell_type": "code",
   "execution_count": 202,
   "id": "7db81354-a7ec-4596-a120-d41d0c3f0dae",
   "metadata": {},
   "outputs": [
    {
     "name": "stdout",
     "output_type": "stream",
     "text": [
      "x    10\n",
      "y    20\n",
      "z    30\n",
      "w    40\n",
      "dtype: int64\n"
     ]
    }
   ],
   "source": [
    "s = pd.Series([10, 20, 30, 40], index=['a', 'b', 'c', 'd'])\n",
    "s.index = ['x', 'y', 'z', 'w']\n",
    "print(s)"
   ]
  },
  {
   "cell_type": "code",
   "execution_count": 204,
   "id": "b6e9dfd5-3359-4d77-9203-5497baa3675f",
   "metadata": {},
   "outputs": [
    {
     "name": "stdout",
     "output_type": "stream",
     "text": [
      "  index   0\n",
      "0     x  10\n",
      "1     y  20\n",
      "2     z  30\n",
      "3     w  40\n"
     ]
    }
   ],
   "source": [
    "s_reset = s.reset_index()\n",
    "print(s_reset)"
   ]
  },
  {
   "cell_type": "code",
   "execution_count": 206,
   "id": "cef6f4b6-0bc0-4ea1-af29-463581c1770a",
   "metadata": {},
   "outputs": [
    {
     "name": "stdout",
     "output_type": "stream",
     "text": [
      "0    10\n",
      "1    20\n",
      "2    30\n",
      "3    40\n",
      "dtype: int64\n"
     ]
    }
   ],
   "source": [
    "s_reset = s.reset_index(drop=True)\n",
    "print(s_reset)"
   ]
  },
  {
   "cell_type": "markdown",
   "id": "eed2f7eb-9e7f-4789-86ce-b1d5a8929889",
   "metadata": {},
   "source": [
    "## Проверка уникальности индексов Series"
   ]
  },
  {
   "cell_type": "code",
   "execution_count": 209,
   "id": "cbb21197-9337-485e-a3d3-de8dca7a1c3d",
   "metadata": {},
   "outputs": [
    {
     "name": "stdout",
     "output_type": "stream",
     "text": [
      "True\n"
     ]
    }
   ],
   "source": [
    "s_unique = pd.Series([10, 20, 30], index=['a', 'b', 'c'])\n",
    "print(s_unique.index.is_unique)"
   ]
  },
  {
   "cell_type": "code",
   "execution_count": 211,
   "id": "7ba8101c-84c1-41d8-b968-dc9fc36c09b7",
   "metadata": {},
   "outputs": [
    {
     "name": "stdout",
     "output_type": "stream",
     "text": [
      "False\n"
     ]
    }
   ],
   "source": [
    "s_duplicate = pd.Series([10, 20, 30, 40], index=['a', 'b', 'a', 'c'])\n",
    "print(s_duplicate.index.is_unique)"
   ]
  },
  {
   "cell_type": "code",
   "execution_count": 213,
   "id": "b485bcde-695b-4e0a-8129-8943fedc55c1",
   "metadata": {},
   "outputs": [
    {
     "name": "stdout",
     "output_type": "stream",
     "text": [
      "a    10\n",
      "a    30\n",
      "dtype: int64\n"
     ]
    }
   ],
   "source": [
    "print(s_duplicate.loc['a'])"
   ]
  },
  {
   "cell_type": "code",
   "execution_count": 215,
   "id": "a174517f-c28e-47a8-a2d8-bc8c39eb2a64",
   "metadata": {},
   "outputs": [
    {
     "name": "stdout",
     "output_type": "stream",
     "text": [
      "0    10\n",
      "1    20\n",
      "2    30\n",
      "3    40\n",
      "dtype: int64\n"
     ]
    }
   ],
   "source": [
    "s_reset = s_duplicate.reset_index(drop=True)\n",
    "print(s_reset)"
   ]
  },
  {
   "cell_type": "markdown",
   "id": "51f27388-3836-40b0-bbff-24d0f7278bd0",
   "metadata": {},
   "source": [
    "# Сортировка данных в Series"
   ]
  },
  {
   "cell_type": "markdown",
   "id": "090c3ead-4fc7-4792-b590-f9686f4365d1",
   "metadata": {},
   "source": [
    "## Сортировка по индексу с .sort_index()"
   ]
  },
  {
   "cell_type": "code",
   "execution_count": 219,
   "id": "c81e7166-bef5-464a-950e-042599cb6cd6",
   "metadata": {},
   "outputs": [
    {
     "name": "stdout",
     "output_type": "stream",
     "text": [
      "a    30\n",
      "b    20\n",
      "c    40\n",
      "d    10\n",
      "dtype: int64\n"
     ]
    }
   ],
   "source": [
    "s = pd.Series([10, 20, 30, 40], index=['d', 'b', 'a', 'c'])\n",
    "s_sorted = s.sort_index()\n",
    "print(s_sorted)"
   ]
  },
  {
   "cell_type": "code",
   "execution_count": 221,
   "id": "ae167c0b-2f2a-4dd4-92a8-4c4af590d469",
   "metadata": {},
   "outputs": [
    {
     "name": "stdout",
     "output_type": "stream",
     "text": [
      "d    10\n",
      "c    40\n",
      "b    20\n",
      "a    30\n",
      "dtype: int64\n"
     ]
    }
   ],
   "source": [
    "s_sorted_desc = s.sort_index(ascending=False)\n",
    "print(s_sorted_desc)"
   ]
  },
  {
   "cell_type": "markdown",
   "id": "0343de3a-0cd6-434b-acda-500e45a30fde",
   "metadata": {},
   "source": [
    "## Сортировка по значениями .sort_values()"
   ]
  },
  {
   "cell_type": "code",
   "execution_count": 224,
   "id": "18b27566-313c-44b8-9a0f-16b2a6d103d0",
   "metadata": {},
   "outputs": [
    {
     "name": "stdout",
     "output_type": "stream",
     "text": [
      "d    10\n",
      "b    20\n",
      "a    30\n",
      "c    40\n",
      "dtype: int64\n"
     ]
    }
   ],
   "source": [
    "s_sorted_values = s.sort_values()\n",
    "print(s_sorted_values)"
   ]
  },
  {
   "cell_type": "code",
   "execution_count": 226,
   "id": "421d0154-91b4-45f8-ae27-835fa726ee55",
   "metadata": {},
   "outputs": [
    {
     "name": "stdout",
     "output_type": "stream",
     "text": [
      "d    10\n",
      "b    20\n",
      "a    30\n",
      "c    40\n",
      "dtype: int64\n"
     ]
    }
   ],
   "source": [
    "s_sorted_values = s.sort_values()\n",
    "print(s_sorted_values)"
   ]
  },
  {
   "cell_type": "markdown",
   "id": "4d7d00b3-0b03-4fa7-a8ef-450272bdef20",
   "metadata": {},
   "source": [
    "## Обработка NaN при сортировке"
   ]
  },
  {
   "cell_type": "code",
   "execution_count": 229,
   "id": "4dcabe2f-abe0-483c-95eb-71796cbb7a83",
   "metadata": {},
   "outputs": [
    {
     "name": "stdout",
     "output_type": "stream",
     "text": [
      "a    10.0\n",
      "e    20.0\n",
      "c    30.0\n",
      "b     NaN\n",
      "d     NaN\n",
      "dtype: float64\n"
     ]
    }
   ],
   "source": [
    "s_nan = pd.Series([10, None, 30, None, 20], index=['a', 'b', 'c', 'd', 'e'])\n",
    "print(s_nan.sort_values())"
   ]
  },
  {
   "cell_type": "code",
   "execution_count": 231,
   "id": "4dba0168-16a4-4baa-ad0d-79548d1a408b",
   "metadata": {},
   "outputs": [
    {
     "name": "stdout",
     "output_type": "stream",
     "text": [
      "b     NaN\n",
      "d     NaN\n",
      "a    10.0\n",
      "e    20.0\n",
      "c    30.0\n",
      "dtype: float64\n"
     ]
    }
   ],
   "source": [
    "print(s_nan.sort_values(na_position='first'))"
   ]
  },
  {
   "cell_type": "markdown",
   "id": "80090491-1864-4863-9a94-c0b4704968cf",
   "metadata": {},
   "source": [
    "# Применение Series для представления временных рядов"
   ]
  },
  {
   "cell_type": "markdown",
   "id": "33d0cfed-62bb-4523-8e9b-20840a2c2470",
   "metadata": {},
   "source": [
    "## Создание временных рядов в Series"
   ]
  },
  {
   "cell_type": "code",
   "execution_count": 235,
   "id": "1e3f31fc-3ae3-45c8-a19e-a00efc280588",
   "metadata": {},
   "outputs": [
    {
     "name": "stdout",
     "output_type": "stream",
     "text": [
      "2024-03-01    100\n",
      "2024-03-02    105\n",
      "2024-03-03    102\n",
      "2024-03-04     98\n",
      "2024-03-05    110\n",
      "Freq: D, dtype: int64\n"
     ]
    }
   ],
   "source": [
    "dates = pd.date_range(start='2024-03-01', periods=5, freq='D')\n",
    "s = pd.Series([100, 105, 102, 98, 110], index=dates)\n",
    "print(s)"
   ]
  },
  {
   "cell_type": "markdown",
   "id": "875dab63-1e75-4e2b-8239-3b87a29d6a80",
   "metadata": {},
   "source": [
    "## Доступ к данным по времени"
   ]
  },
  {
   "cell_type": "code",
   "execution_count": 238,
   "id": "845f6f27-d984-477f-b082-41f4feaa9152",
   "metadata": {},
   "outputs": [
    {
     "name": "stdout",
     "output_type": "stream",
     "text": [
      "102\n"
     ]
    }
   ],
   "source": [
    "print(s['2024-03-03'])"
   ]
  },
  {
   "cell_type": "code",
   "execution_count": 240,
   "id": "825bcfad-942b-42c1-9505-3512460653e5",
   "metadata": {},
   "outputs": [
    {
     "name": "stdout",
     "output_type": "stream",
     "text": [
      "2024-03-02    105\n",
      "2024-03-03    102\n",
      "2024-03-04     98\n",
      "Freq: D, dtype: int64\n"
     ]
    }
   ],
   "source": [
    "print(s['2024-03-02':'2024-03-04'])"
   ]
  },
  {
   "cell_type": "markdown",
   "id": "d3190bae-5bdc-4cbd-a7e8-c93968b8a7ae",
   "metadata": {},
   "source": [
    "## Создание временного ряда с разной частотой"
   ]
  },
  {
   "cell_type": "code",
   "execution_count": 243,
   "id": "b96fdc51-9fce-40b1-ab12-adf333f7372c",
   "metadata": {},
   "outputs": [
    {
     "name": "stdout",
     "output_type": "stream",
     "text": [
      "2024-03-01 00:00:00    10\n",
      "2024-03-01 01:00:00    15\n",
      "2024-03-01 02:00:00    12\n",
      "2024-03-01 03:00:00     8\n",
      "2024-03-01 04:00:00    20\n",
      "Freq: h, dtype: int64\n"
     ]
    }
   ],
   "source": [
    "dates = pd.date_range(start='2024-03-01', periods=5, freq='h')\n",
    "s = pd.Series([10, 15, 12, 8, 20], index=dates)\n",
    "print(s)"
   ]
  },
  {
   "cell_type": "markdown",
   "id": "a3c8f6e5-a024-44be-9850-8f0e98f9149a",
   "metadata": {},
   "source": [
    "## Перевод индекса в формат Datetime"
   ]
  },
  {
   "cell_type": "code",
   "execution_count": 246,
   "id": "f045801c-938d-4c31-bb37-6e2e58f18c58",
   "metadata": {},
   "outputs": [
    {
     "name": "stdout",
     "output_type": "stream",
     "text": [
      "2024-03-01    100\n",
      "2024-03-02    200\n",
      "2024-03-03    150\n",
      "dtype: int64\n"
     ]
    }
   ],
   "source": [
    "s = pd.Series([100, 200, 150], index=['2024-03-01', '2024-03-02', '2024-03-03'])\n",
    "s.index = pd.to_datetime(s.index)\n",
    "print(s)"
   ]
  },
  {
   "cell_type": "markdown",
   "id": "e10a900a-7d45-4d1f-9a23-4ec2505c687e",
   "metadata": {},
   "source": [
    "## Операции с временными рядами"
   ]
  },
  {
   "cell_type": "code",
   "execution_count": 249,
   "id": "2eb0c148-5257-418d-8535-d46370aa1e96",
   "metadata": {},
   "outputs": [
    {
     "name": "stdout",
     "output_type": "stream",
     "text": [
      "2024-03-01    100.0\n",
      "2024-03-02    200.0\n",
      "2024-03-03    150.0\n",
      "Freq: D, dtype: float64\n"
     ]
    }
   ],
   "source": [
    "print(s.resample('D').mean())"
   ]
  },
  {
   "cell_type": "code",
   "execution_count": 251,
   "id": "cb4aefb4-d2a6-4da9-9c85-5f7fd3abf968",
   "metadata": {},
   "outputs": [
    {
     "name": "stdout",
     "output_type": "stream",
     "text": [
      "2024-03-01    100\n",
      "2024-03-02    200\n",
      "2024-03-03    150\n",
      "dtype: int64\n"
     ]
    }
   ],
   "source": [
    "print(s[s.index.year == 2024])"
   ]
  },
  {
   "cell_type": "code",
   "execution_count": 253,
   "id": "4b1ab743-4cb6-4882-b4b7-5192a02a0ae0",
   "metadata": {},
   "outputs": [
    {
     "name": "stdout",
     "output_type": "stream",
     "text": [
      "2024-03-01      NaN\n",
      "2024-03-02    100.0\n",
      "2024-03-03    200.0\n",
      "dtype: float64\n"
     ]
    }
   ],
   "source": [
    "print(s.shift(1))"
   ]
  },
  {
   "cell_type": "markdown",
   "id": "d18c9e7a-73c7-472c-8f46-5d31ad8f2053",
   "metadata": {},
   "source": [
    "## Расчет скользящего среднего"
   ]
  },
  {
   "cell_type": "code",
   "execution_count": 256,
   "id": "66a86c3c-f3d6-479b-8f43-f723e9003d0b",
   "metadata": {},
   "outputs": [
    {
     "name": "stdout",
     "output_type": "stream",
     "text": [
      "2024-03-01     NaN\n",
      "2024-03-02     NaN\n",
      "2024-03-03    20.0\n",
      "2024-03-04    30.0\n",
      "2024-03-05    40.0\n",
      "2024-03-06    50.0\n",
      "2024-03-07    60.0\n",
      "Freq: D, dtype: float64\n"
     ]
    }
   ],
   "source": [
    "s = pd.Series([10, 20, 30, 40, 50, 60, 70], index=pd.date_range(\"2024-03-01\", periods=7, freq=\"D\"))\n",
    "s_ma = s.rolling(window=3).mean()\n",
    "print(s_ma)"
   ]
  },
  {
   "cell_type": "code",
   "execution_count": 258,
   "id": "e9056713-b0b1-4f1a-b5b3-d0a15b13e0a6",
   "metadata": {},
   "outputs": [
    {
     "name": "stdout",
     "output_type": "stream",
     "text": [
      "2024-03-01     NaN\n",
      "2024-03-02     NaN\n",
      "2024-03-03     NaN\n",
      "2024-03-04     NaN\n",
      "2024-03-05    30.0\n",
      "2024-03-06    40.0\n",
      "2024-03-07    50.0\n",
      "Freq: D, dtype: float64\n"
     ]
    }
   ],
   "source": [
    "s_ma5 = s.rolling(window=5).mean()\n",
    "print(s_ma5)"
   ]
  },
  {
   "cell_type": "code",
   "execution_count": 260,
   "id": "f3702f48-1c84-4599-a5f1-410d8b063de2",
   "metadata": {},
   "outputs": [
    {
     "name": "stdout",
     "output_type": "stream",
     "text": [
      "2024-03-01    10.0\n",
      "2024-03-02    15.0\n",
      "2024-03-03    20.0\n",
      "2024-03-04    30.0\n",
      "2024-03-05    40.0\n",
      "2024-03-06    50.0\n",
      "2024-03-07    60.0\n",
      "Freq: D, dtype: float64\n"
     ]
    }
   ],
   "source": [
    "s_ma2 = s.rolling(window=3, min_periods=1).mean()\n",
    "print(s_ma2)"
   ]
  },
  {
   "cell_type": "code",
   "execution_count": 262,
   "id": "00f186a2-0388-4cee-999b-3681f85d07ff",
   "metadata": {},
   "outputs": [
    {
     "data": {
      "image/png": "[encoded data removed]",
      "text/plain": [
       "<Figure size 800x400 with 1 Axes>"
      ]
     },
     "metadata": {},
     "output_type": "display_data"
    }
   ],
   "source": [
    "import matplotlib.pyplot as plt\n",
    "\n",
    "plt.figure(figsize=(8, 4))\n",
    "plt.plot(s, label=\"Исходные данные\", marker=\"o\")\n",
    "plt.plot(s.rolling(window=3).mean(), label=\"Скользящее среднее (3)\", linestyle=\"--\", color=\"red\")\n",
    "\n",
    "plt.xlabel(\"Дата\")\n",
    "plt.ylabel(\"Значение\")\n",
    "plt.title(\"Скользящее среднее в Series\")\n",
    "plt.legend()\n",
    "plt.grid()\n",
    "\n",
    "plt.show()"
   ]
  },
  {
   "cell_type": "markdown",
   "id": "30e9838c-4c66-4a82-93ad-a756c313ba60",
   "metadata": {},
   "source": [
    "## Процентный прирост"
   ]
  },
  {
   "cell_type": "code",
   "execution_count": 265,
   "id": "699131df-2994-46d4-93c8-30ffff58509c",
   "metadata": {},
   "outputs": [
    {
     "name": "stdout",
     "output_type": "stream",
     "text": [
      "0         NaN\n",
      "1    0.100000\n",
      "2    0.090909\n",
      "3   -0.250000\n",
      "4    0.666667\n",
      "dtype: float64\n"
     ]
    }
   ],
   "source": [
    "s = pd.Series([100, 110, 120, 90, 150])\n",
    "print(s.pct_change())"
   ]
  },
  {
   "cell_type": "code",
   "execution_count": 267,
   "id": "53b873cd-2cf6-4958-ae09-d433aa3958d9",
   "metadata": {},
   "outputs": [
    {
     "name": "stdout",
     "output_type": "stream",
     "text": [
      "0          NaN\n",
      "1    10.000000\n",
      "2     9.090909\n",
      "3   -25.000000\n",
      "4    66.666667\n",
      "dtype: float64\n"
     ]
    }
   ],
   "source": [
    "print(s.pct_change() * 100)"
   ]
  },
  {
   "cell_type": "code",
   "execution_count": 269,
   "id": "b881b854-90dc-4fdd-85f7-1132154c71ea",
   "metadata": {},
   "outputs": [
    {
     "name": "stdout",
     "output_type": "stream",
     "text": [
      "0          NaN\n",
      "1          NaN\n",
      "2    20.000000\n",
      "3   -18.181818\n",
      "4    25.000000\n",
      "dtype: float64\n"
     ]
    }
   ],
   "source": [
    "print(s.pct_change(periods=2) * 100)"
   ]
  },
  {
   "cell_type": "code",
   "execution_count": 271,
   "id": "761c1291-a5b2-4d55-94ca-dd24549c474f",
   "metadata": {},
   "outputs": [
    {
     "data": {
      "image/png": "[encoded data removed]",
      "text/plain": [
       "<Figure size 1000x500 with 1 Axes>"
      ]
     },
     "metadata": {},
     "output_type": "display_data"
    },
    {
     "data": {
      "image/png": "[encoded data removed]",
      "text/plain": [
       "<Figure size 1000x500 with 1 Axes>"
      ]
     },
     "metadata": {},
     "output_type": "display_data"
    }
   ],
   "source": [
    "dates = pd.date_range(start=\"2024-01-01\", periods=30, freq=\"D\")\n",
    "prices = pd.Series(np.random.randint(90, 110, size=30), index=dates)\n",
    "returns = prices.pct_change() * 100\n",
    "\n",
    "plt.figure(figsize=(10, 5))\n",
    "plt.plot(prices, label=\"Цена акции\", marker=\"o\")\n",
    "plt.ylabel(\"Цена\")\n",
    "plt.xlabel(\"Дата\")\n",
    "plt.title(\"График цены акции\")\n",
    "\n",
    "plt.figure(figsize=(10, 5))\n",
    "plt.bar(returns.index, returns, color=\"red\", alpha=0.7, label=\"Процентное изменение\")\n",
    "plt.axhline(0, color=\"black\", linestyle=\"--\")\n",
    "plt.ylabel(\"Изменение (%)\")\n",
    "plt.xlabel(\"Дата\")\n",
    "plt.title(\"Процентное изменение цены акции\")\n",
    "plt.legend()\n",
    "\n",
    "plt.show()"
   ]
  },
  {
   "cell_type": "markdown",
   "id": "a2d2b5f1-97d4-4d1c-b37a-11962821864b",
   "metadata": {},
   "source": [
    "# Создание Series на основе данных из внешних файлов"
   ]
  },
  {
   "cell_type": "markdown",
   "id": "6b1b8775-684a-418f-9ddf-8497aac9a2d0",
   "metadata": {},
   "source": [
    "## Загрузка данных из CSV-файла"
   ]
  },
  {
   "cell_type": "code",
   "execution_count": 280,
   "id": "98106287-2975-47cd-b1a5-0b214eed8d74",
   "metadata": {},
   "outputs": [
    {
     "name": "stdout",
     "output_type": "stream",
     "text": [
      "0     150\n",
      "1     200\n",
      "2     180\n",
      "3      90\n",
      "4     100\n",
      "5      60\n",
      "6      50\n",
      "7     120\n",
      "8     110\n",
      "9     140\n",
      "10    300\n",
      "11    250\n",
      "12     40\n",
      "13     30\n",
      "14    130\n",
      "15    120\n",
      "16    150\n",
      "17    400\n",
      "18     80\n",
      "19     70\n",
      "Name: quantity, dtype: int64\n"
     ]
    }
   ],
   "source": [
    "df = pd.read_csv(\"products.csv\")\n",
    "s = df[\"quantity\"]\n",
    "print(s)"
   ]
  },
  {
   "cell_type": "markdown",
   "id": "c67b3efd-ff7b-42a7-b588-9999e60c7886",
   "metadata": {},
   "source": [
    "## Загрузка данных из Excel-файла"
   ]
  },
  {
   "cell_type": "code",
   "execution_count": 284,
   "id": "fcbb8002-97c9-4463-8534-c0d476efafe0",
   "metadata": {},
   "outputs": [
    {
     "name": "stdout",
     "output_type": "stream",
     "text": [
      "0     0.50\n",
      "1     0.30\n",
      "2     0.60\n",
      "3     1.20\n",
      "4     1.00\n",
      "5     2.50\n",
      "6     3.00\n",
      "7     0.80\n",
      "8     0.70\n",
      "9     0.40\n",
      "10    0.25\n",
      "11    0.35\n",
      "12    5.00\n",
      "13    7.50\n",
      "14    1.10\n",
      "15    1.30\n",
      "16    0.90\n",
      "17    0.20\n",
      "18    2.00\n",
      "19    3.50\n",
      "Name: price, dtype: float64\n"
     ]
    }
   ],
   "source": [
    "df = pd.read_excel(\"products.xlsx\", sheet_name=\"Sheet1\")\n",
    "s = df[\"price\"]\n",
    "print(s)"
   ]
  },
  {
   "cell_type": "markdown",
   "id": "2bb940b4-cde6-4924-8d1a-b1a2c6f2551b",
   "metadata": {},
   "source": [
    "## Чтение данных из файла с указанием индекса"
   ]
  },
  {
   "cell_type": "code",
   "execution_count": 287,
   "id": "9db8b2d5-65e1-4c85-bb8d-b389e3278f30",
   "metadata": {},
   "outputs": [
    {
     "name": "stdout",
     "output_type": "stream",
     "text": [
      "product_name\n",
      "Apple       150\n",
      "Banana      200\n",
      "Orange      180\n",
      "Milk         90\n",
      "Bread       100\n",
      "Butter       60\n",
      "Cheese       50\n",
      "Tomato      120\n",
      "Cucumber    110\n",
      "Carrot      140\n",
      "Potato      300\n",
      "Onion       250\n",
      "Chicken      40\n",
      "Beef         30\n",
      "Rice        130\n",
      "Pasta       120\n",
      "Sugar       150\n",
      "Salt        400\n",
      "Tea          80\n",
      "Coffee       70\n",
      "Name: quantity, dtype: int64\n"
     ]
    }
   ],
   "source": [
    "s = pd.read_csv(\"products.csv\", index_col=\"product_name\")[\"quantity\"]\n",
    "print(s)"
   ]
  }
 ],
 "metadata": {
  "kernelspec": {
   "display_name": "Python [conda env:base] *",
   "language": "python",
   "name": "conda-base-py"
  },
  "language_info": {
   "codemirror_mode": {
    "name": "ipython",
    "version": 3
   },
   "file_extension": ".py",
   "mimetype": "text/x-python",
   "name": "python",
   "nbconvert_exporter": "python",
   "pygments_lexer": "ipython3",
   "version": "3.12.7"
  }
 },
 "nbformat": 4,
 "nbformat_minor": 5
}
